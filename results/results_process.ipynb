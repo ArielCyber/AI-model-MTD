{
 "cells": [
  {
   "cell_type": "markdown",
   "metadata": {},
   "source": [
    "# Time"
   ]
  },
  {
   "cell_type": "markdown",
   "metadata": {},
   "source": [
    "## Save/Load Plot"
   ]
  },
  {
   "cell_type": "code",
   "execution_count": 1,
   "metadata": {},
   "outputs": [
    {
     "data": {
      "application/vnd.microsoft.datawrangler.viewer.v0+json": {
       "columns": [
        {
         "name": "index",
         "rawType": "int64",
         "type": "integer"
        },
        {
         "name": "run_name",
         "rawType": "int64",
         "type": "integer"
        },
        {
         "name": "model_name",
         "rawType": "object",
         "type": "string"
        },
        {
         "name": "model_size_mb",
         "rawType": "float64",
         "type": "float"
        },
        {
         "name": "action",
         "rawType": "object",
         "type": "string"
        },
        {
         "name": "time_seconds",
         "rawType": "float64",
         "type": "float"
        },
        {
         "name": "method",
         "rawType": "object",
         "type": "string"
        }
       ],
       "ref": "485729d3-0a6e-4016-929d-5aee73ce9ce1",
       "rows": [
        [
         "1210",
         "0",
         "alexnet",
         "233.08120727539062",
         "save",
         "0.5316498279571533",
         "mtd"
        ],
        [
         "1211",
         "1",
         "alexnet",
         "233.08120727539062",
         "save",
         "0.5399255752563477",
         "mtd"
        ],
        [
         "1212",
         "2",
         "alexnet",
         "233.08120727539062",
         "save",
         "0.5357730388641357",
         "mtd"
        ],
        [
         "1213",
         "3",
         "alexnet",
         "233.08120727539062",
         "save",
         "1.0668660722985512",
         "mtd"
        ],
        [
         "1214",
         "4",
         "alexnet",
         "233.08120727539062",
         "save",
         "1.072441885594006",
         "mtd"
        ],
        [
         "1215",
         "5",
         "alexnet",
         "233.08120727539062",
         "save",
         "1.069470983247685",
         "mtd"
        ],
        [
         "1216",
         "6",
         "alexnet",
         "233.08120727539062",
         "save",
         "1.0696299802377798",
         "mtd"
        ],
        [
         "1217",
         "7",
         "alexnet",
         "233.08120727539062",
         "save",
         "1.065255634162029",
         "mtd"
        ],
        [
         "1218",
         "8",
         "alexnet",
         "233.08120727539062",
         "save",
         "1.0758571238487349",
         "mtd"
        ],
        [
         "1219",
         "9",
         "alexnet",
         "233.08120727539062",
         "save",
         "1.0726805977414675",
         "mtd"
        ],
        [
         "1220",
         "0",
         "convnext_base",
         "337.9496154785156",
         "save",
         "0.7769510746002197",
         "mtd"
        ],
        [
         "1221",
         "1",
         "convnext_base",
         "337.9496154785156",
         "save",
         "0.7710471153259277",
         "mtd"
        ],
        [
         "1222",
         "2",
         "convnext_base",
         "337.9496154785156",
         "save",
         "0.7668435573577881",
         "mtd"
        ],
        [
         "1223",
         "3",
         "convnext_base",
         "337.9496154785156",
         "save",
         "1.533150830884836",
         "mtd"
        ],
        [
         "1224",
         "4",
         "convnext_base",
         "337.9496154785156",
         "save",
         "1.5481681996847074",
         "mtd"
        ],
        [
         "1225",
         "5",
         "convnext_base",
         "337.9496154785156",
         "save",
         "1.5377174846199706",
         "mtd"
        ],
        [
         "1226",
         "6",
         "convnext_base",
         "337.9496154785156",
         "save",
         "1.5405843533267944",
         "mtd"
        ],
        [
         "1227",
         "7",
         "convnext_base",
         "337.9496154785156",
         "save",
         "1.5387680992525978",
         "mtd"
        ],
        [
         "1228",
         "8",
         "convnext_base",
         "337.9496154785156",
         "save",
         "1.5344321900160054",
         "mtd"
        ],
        [
         "1229",
         "9",
         "convnext_base",
         "337.9496154785156",
         "save",
         "1.5442443727893158",
         "mtd"
        ],
        [
         "1230",
         "0",
         "convnext_large",
         "754.4225158691406",
         "save",
         "1.6206974983215332",
         "mtd"
        ],
        [
         "1231",
         "1",
         "convnext_large",
         "754.4225158691406",
         "save",
         "1.5910332202911377",
         "mtd"
        ],
        [
         "1232",
         "2",
         "convnext_large",
         "754.4225158691406",
         "save",
         "1.5723485946655271",
         "mtd"
        ],
        [
         "1233",
         "3",
         "convnext_large",
         "754.4225158691406",
         "save",
         "3.21653883444346",
         "mtd"
        ],
        [
         "1234",
         "4",
         "convnext_large",
         "754.4225158691406",
         "save",
         "3.2252402554070443",
         "mtd"
        ],
        [
         "1235",
         "5",
         "convnext_large",
         "754.4225158691406",
         "save",
         "3.1882991892767603",
         "mtd"
        ],
        [
         "1236",
         "6",
         "convnext_large",
         "754.4225158691406",
         "save",
         "3.20196324861228",
         "mtd"
        ],
        [
         "1237",
         "7",
         "convnext_large",
         "754.4225158691406",
         "save",
         "3.201502838609743",
         "mtd"
        ],
        [
         "1238",
         "8",
         "convnext_large",
         "754.4225158691406",
         "save",
         "3.162976219149064",
         "mtd"
        ],
        [
         "1239",
         "9",
         "convnext_large",
         "754.4225158691406",
         "save",
         "3.233832271484361",
         "mtd"
        ],
        [
         "1240",
         "0",
         "convnext_small",
         "191.58816528320312",
         "save",
         "0.4602890014648437",
         "mtd"
        ],
        [
         "1241",
         "1",
         "convnext_small",
         "191.58816528320312",
         "save",
         "0.4593498706817627",
         "mtd"
        ],
        [
         "1242",
         "2",
         "convnext_small",
         "191.58816528320312",
         "save",
         "0.4593489170074463",
         "mtd"
        ],
        [
         "1243",
         "3",
         "convnext_small",
         "191.58816528320312",
         "save",
         "0.919752147076337",
         "mtd"
        ],
        [
         "1244",
         "4",
         "convnext_small",
         "191.58816528320312",
         "save",
         "0.919436585550696",
         "mtd"
        ],
        [
         "1245",
         "5",
         "convnext_small",
         "191.58816528320312",
         "save",
         "0.9194369391903452",
         "mtd"
        ],
        [
         "1246",
         "6",
         "convnext_small",
         "191.58816528320312",
         "save",
         "0.9196700060456172",
         "mtd"
        ],
        [
         "1247",
         "7",
         "convnext_small",
         "191.58816528320312",
         "save",
         "0.9189847666060428",
         "mtd"
        ],
        [
         "1248",
         "8",
         "convnext_small",
         "191.58816528320312",
         "save",
         "0.920102600759867",
         "mtd"
        ],
        [
         "1249",
         "9",
         "convnext_small",
         "191.58816528320312",
         "save",
         "0.91887578780513",
         "mtd"
        ],
        [
         "1250",
         "0",
         "convnext_tiny",
         "109.05886840820312",
         "save",
         "0.2672817707061767",
         "mtd"
        ],
        [
         "1251",
         "1",
         "convnext_tiny",
         "109.05886840820312",
         "save",
         "0.2638642787933349",
         "mtd"
        ],
        [
         "1252",
         "2",
         "convnext_tiny",
         "109.05886840820312",
         "save",
         "0.2641353607177734",
         "mtd"
        ],
        [
         "1253",
         "3",
         "convnext_tiny",
         "109.05886840820312",
         "save",
         "0.529749776230841",
         "mtd"
        ],
        [
         "1254",
         "4",
         "convnext_tiny",
         "109.05886840820312",
         "save",
         "0.5297940171232844",
         "mtd"
        ],
        [
         "1255",
         "5",
         "convnext_tiny",
         "109.05886840820312",
         "save",
         "0.5295264936316314",
         "mtd"
        ],
        [
         "1256",
         "6",
         "convnext_tiny",
         "109.05886840820312",
         "save",
         "0.532457391780121",
         "mtd"
        ],
        [
         "1257",
         "7",
         "convnext_tiny",
         "109.05886840820312",
         "save",
         "0.5298402153777633",
         "mtd"
        ],
        [
         "1258",
         "8",
         "convnext_tiny",
         "109.05886840820312",
         "save",
         "0.5305778775663521",
         "mtd"
        ],
        [
         "1259",
         "9",
         "convnext_tiny",
         "109.05886840820312",
         "save",
         "0.5313292270612293",
         "mtd"
        ]
       ],
       "shape": {
        "columns": 6,
        "rows": 4840
       }
      },
      "text/html": [
       "<div>\n",
       "<style scoped>\n",
       "    .dataframe tbody tr th:only-of-type {\n",
       "        vertical-align: middle;\n",
       "    }\n",
       "\n",
       "    .dataframe tbody tr th {\n",
       "        vertical-align: top;\n",
       "    }\n",
       "\n",
       "    .dataframe thead th {\n",
       "        text-align: right;\n",
       "    }\n",
       "</style>\n",
       "<table border=\"1\" class=\"dataframe\">\n",
       "  <thead>\n",
       "    <tr style=\"text-align: right;\">\n",
       "      <th></th>\n",
       "      <th>run_name</th>\n",
       "      <th>model_name</th>\n",
       "      <th>model_size_mb</th>\n",
       "      <th>action</th>\n",
       "      <th>time_seconds</th>\n",
       "      <th>method</th>\n",
       "    </tr>\n",
       "  </thead>\n",
       "  <tbody>\n",
       "    <tr>\n",
       "      <th>1210</th>\n",
       "      <td>0</td>\n",
       "      <td>alexnet</td>\n",
       "      <td>233.081207</td>\n",
       "      <td>save</td>\n",
       "      <td>0.531650</td>\n",
       "      <td>mtd</td>\n",
       "    </tr>\n",
       "    <tr>\n",
       "      <th>1211</th>\n",
       "      <td>1</td>\n",
       "      <td>alexnet</td>\n",
       "      <td>233.081207</td>\n",
       "      <td>save</td>\n",
       "      <td>0.539926</td>\n",
       "      <td>mtd</td>\n",
       "    </tr>\n",
       "    <tr>\n",
       "      <th>1212</th>\n",
       "      <td>2</td>\n",
       "      <td>alexnet</td>\n",
       "      <td>233.081207</td>\n",
       "      <td>save</td>\n",
       "      <td>0.535773</td>\n",
       "      <td>mtd</td>\n",
       "    </tr>\n",
       "    <tr>\n",
       "      <th>1213</th>\n",
       "      <td>3</td>\n",
       "      <td>alexnet</td>\n",
       "      <td>233.081207</td>\n",
       "      <td>save</td>\n",
       "      <td>1.066866</td>\n",
       "      <td>mtd</td>\n",
       "    </tr>\n",
       "    <tr>\n",
       "      <th>1214</th>\n",
       "      <td>4</td>\n",
       "      <td>alexnet</td>\n",
       "      <td>233.081207</td>\n",
       "      <td>save</td>\n",
       "      <td>1.072442</td>\n",
       "      <td>mtd</td>\n",
       "    </tr>\n",
       "    <tr>\n",
       "      <th>...</th>\n",
       "      <td>...</td>\n",
       "      <td>...</td>\n",
       "      <td>...</td>\n",
       "      <td>...</td>\n",
       "      <td>...</td>\n",
       "      <td>...</td>\n",
       "    </tr>\n",
       "    <tr>\n",
       "      <th>6045</th>\n",
       "      <td>5</td>\n",
       "      <td>wide_resnet50_2</td>\n",
       "      <td>262.768707</td>\n",
       "      <td>save</td>\n",
       "      <td>0.260670</td>\n",
       "      <td>reg</td>\n",
       "    </tr>\n",
       "    <tr>\n",
       "      <th>6046</th>\n",
       "      <td>6</td>\n",
       "      <td>wide_resnet50_2</td>\n",
       "      <td>262.768707</td>\n",
       "      <td>save</td>\n",
       "      <td>0.260516</td>\n",
       "      <td>reg</td>\n",
       "    </tr>\n",
       "    <tr>\n",
       "      <th>6047</th>\n",
       "      <td>7</td>\n",
       "      <td>wide_resnet50_2</td>\n",
       "      <td>262.768707</td>\n",
       "      <td>save</td>\n",
       "      <td>0.260536</td>\n",
       "      <td>reg</td>\n",
       "    </tr>\n",
       "    <tr>\n",
       "      <th>6048</th>\n",
       "      <td>8</td>\n",
       "      <td>wide_resnet50_2</td>\n",
       "      <td>262.768707</td>\n",
       "      <td>save</td>\n",
       "      <td>0.260692</td>\n",
       "      <td>reg</td>\n",
       "    </tr>\n",
       "    <tr>\n",
       "      <th>6049</th>\n",
       "      <td>9</td>\n",
       "      <td>wide_resnet50_2</td>\n",
       "      <td>262.768707</td>\n",
       "      <td>save</td>\n",
       "      <td>0.260439</td>\n",
       "      <td>reg</td>\n",
       "    </tr>\n",
       "  </tbody>\n",
       "</table>\n",
       "<p>4840 rows × 6 columns</p>\n",
       "</div>"
      ],
      "text/plain": [
       "      run_name       model_name  model_size_mb action  time_seconds method\n",
       "1210         0          alexnet     233.081207   save      0.531650    mtd\n",
       "1211         1          alexnet     233.081207   save      0.539926    mtd\n",
       "1212         2          alexnet     233.081207   save      0.535773    mtd\n",
       "1213         3          alexnet     233.081207   save      1.066866    mtd\n",
       "1214         4          alexnet     233.081207   save      1.072442    mtd\n",
       "...        ...              ...            ...    ...           ...    ...\n",
       "6045         5  wide_resnet50_2     262.768707   save      0.260670    reg\n",
       "6046         6  wide_resnet50_2     262.768707   save      0.260516    reg\n",
       "6047         7  wide_resnet50_2     262.768707   save      0.260536    reg\n",
       "6048         8  wide_resnet50_2     262.768707   save      0.260692    reg\n",
       "6049         9  wide_resnet50_2     262.768707   save      0.260439    reg\n",
       "\n",
       "[4840 rows x 6 columns]"
      ]
     },
     "execution_count": 1,
     "metadata": {},
     "output_type": "execute_result"
    }
   ],
   "source": [
    "import pandas as pd\n",
    "\n",
    "bytes_amnt = {\n",
    "    'torch.float32': 4,\n",
    "}\n",
    "\n",
    "df = pd.read_csv('mtd_model_time_results.csv')\n",
    "\n",
    "df['model_n_bytes_per_weights'] = df['model_dtype_str'].map(bytes_amnt)\n",
    "df.drop(columns=['model_dtype_str'], inplace=True)\n",
    "\n",
    "df['model_size_bytes'] = df['model_n_bytes_per_weights'] * df['model_n_weights']\n",
    "df['model_size_mb'] = df['model_size_bytes'] / 1024 / 1024\n",
    "\n",
    "df.drop(columns=['model_n_bytes_per_weights', 'model_n_weights', 'model_size_bytes'], inplace=True)\n",
    "\n",
    "# df_m = pd.melt(df, id_vars=['run_name', 'model_name', 'model_size_mb'], value_vars=['time_construct_mtd', 'time_obfuscate_mtd', 'time_deobfuscate_mtd', 'time_save_mtd', 'time_load_mtd', 'time_encrypt_crypto', 'time_decrypt_crypto', 'time_load_reg', 'time_save_reg'], var_name='action', value_name='time_seconds')\n",
    "\n",
    "df_m = pd.melt(df, id_vars=['run_name', 'model_name', 'model_size_mb'], value_vars=['time_construct_mtd','time_save_mtd', 'time_load_mtd', 'time_load_reg', 'time_save_reg'], var_name='action', value_name='time_seconds')\n",
    "\n",
    "df_m['action'] = df_m['action'].str.replace('time_', '')\n",
    "\n",
    "df_m['method'] = df_m['action'].str.split('_').str[1]\n",
    "\n",
    "df_m['action'] = df_m['action'].str.replace('_mtd', '')\n",
    "df_m['action'] = df_m['action'].str.replace('_crypto', '')\n",
    "df_m['action'] = df_m['action'].str.replace('_reg', '')\n",
    "\n",
    "df_m=df_m[df_m['action'] != 'construct'].copy()\n",
    "df_m.loc[(df_m['action'] == 'encrypt'), 'action'] = 'obfuscate'\n",
    "df_m.loc[(df_m['action'] == 'decrypt'), 'action'] = 'deobfuscate'\n",
    "\n",
    "# df_m.drop(columns=['model_size_mb'], inplace=True)\n",
    "df_m"
   ]
  },
  {
   "cell_type": "code",
   "execution_count": 2,
   "metadata": {},
   "outputs": [
    {
     "data": {
      "image/png": "[encoded data removed]",
      "text/plain": [
       "<Figure size 1103.38x500 with 2 Axes>"
      ]
     },
     "metadata": {},
     "output_type": "display_data"
    }
   ],
   "source": [
    "import seaborn as sns\n",
    "\n",
    "val_map = {\n",
    "    'action': {\n",
    "        'construct': 'MTD Model Object Construction',\n",
    "        'obfuscate': 'Obfuscation/Encryption',\n",
    "        'deobfuscate': 'Deobfuscation/Decryption',\n",
    "        'save': 'Save',\n",
    "        'load': 'Load',\n",
    "        'encrypt': 'Encryption',\n",
    "        'decrypt': 'Decryption',\n",
    "    },\n",
    "    'method': {\n",
    "        'mtd': 'MTD',\n",
    "        'crypto': 'Crypto',\n",
    "        'reg': 'Regular',\n",
    "    }\n",
    "}\n",
    "\n",
    "df_m.replace(val_map, inplace=True)\n",
    "\n",
    "col_map = {\n",
    "    'model_size_mb': 'Model size (MB)',\n",
    "    'time_seconds': 'Time (seconds)',\n",
    "    'action': 'Action',\n",
    "    'method': 'Method',\n",
    "}\n",
    "df_m.rename(columns=col_map, inplace=True)\n",
    "\n",
    "g = sns.relplot(data=df_m,\n",
    "            x=col_map['model_size_mb'], y=col_map['time_seconds'],\n",
    "            hue=col_map['method'], col=col_map['action'],\n",
    "            style=col_map['method'],\n",
    "            col_wrap=2, kind='line',\n",
    "            facet_kws={'sharey': False}\n",
    "            )\n",
    "\n",
    "# sns.move_legend(g, 'center', frameon=True, bbox_to_anchor=(0.46, 0.5))\n",
    "# g._legend.remove()\n",
    "\n",
    "for ax in g.axes.flat:\n",
    "    ax.grid(True)"
   ]
  },
  {
   "cell_type": "markdown",
   "metadata": {},
   "source": [
    "## Table"
   ]
  },
  {
   "cell_type": "code",
   "execution_count": 3,
   "metadata": {},
   "outputs": [
    {
     "data": {
      "application/vnd.microsoft.datawrangler.viewer.v0+json": {
       "columns": [
        {
         "name": "index",
         "rawType": "int64",
         "type": "integer"
        },
        {
         "name": "group",
         "rawType": "object",
         "type": "string"
        },
        {
         "name": "obfuscate",
         "rawType": "object",
         "type": "string"
        },
        {
         "name": "deobfuscate",
         "rawType": "object",
         "type": "string"
        },
        {
         "name": "encrypt",
         "rawType": "object",
         "type": "string"
        },
        {
         "name": "decrypt",
         "rawType": "object",
         "type": "string"
        }
       ],
       "ref": "cdc7f260-2add-4cf8-b45b-9eeba7b1739b",
       "rows": [
        [
         "0",
         "0 <= Model Size (MB) < 100",
         "0.003820 ± 0.002000",
         "0.005795 ± 0.003956",
         "0.244292 ± 0.115333",
         "0.245123 ± 0.123005"
        ],
        [
         "1",
         "100 <= Model Size (MB) < 200",
         "0.008666 ± 0.002466",
         "0.013184 ± 0.005763",
         "0.680410 ± 0.126848",
         "0.724327 ± 0.133060"
        ],
        [
         "2",
         "200 <= Model Size (MB) < 300",
         "0.014490 ± 0.004417",
         "0.021955 ± 0.009834",
         "1.225329 ± 0.231984",
         "1.197840 ± 0.278559"
        ],
        [
         "3",
         "300 <= Model Size (MB) < 400",
         "0.017144 ± 0.002250",
         "0.025935 ± 0.002614",
         "1.648033 ± 0.388462",
         "1.746837 ± 0.373579"
        ],
        [
         "4",
         "400 <= Model Size (MB) < 500",
         "0.024434 ± 0.006219",
         "0.040424 ± 0.018690",
         "2.898500 ± 0.236313",
         "2.574974 ± 0.215552"
        ],
        [
         "5",
         "500 <= Model Size (MB) < 600",
         "0.019980 ± 0.001987",
         "0.021760 ± 0.004777",
         "3.002284 ± 0.217727",
         "2.574076 ± 0.170747"
        ],
        [
         "6",
         "700 <= Model Size (MB) < 800",
         "0.037661 ± 0.005977",
         "0.051598 ± 0.006328",
         "5.552645 ± 0.103848",
         "5.999168 ± 0.116049"
        ],
        [
         "7",
         "1100 <= Model Size (MB) < 1200",
         "0.051498 ± 0.000437",
         "0.069661 ± 0.002010",
         "7.697417 ± 0.152804",
         "8.562226 ± 0.158626"
        ],
        [
         "8",
         "2400 <= Model Size (MB) < 2500",
         "0.109626 ± 0.023599",
         "0.134600 ± 0.019062",
         "17.901734 ± 0.261984",
         "19.233927 ± 0.467096"
        ]
       ],
       "shape": {
        "columns": 5,
        "rows": 9
       }
      },
      "text/html": [
       "<div>\n",
       "<style scoped>\n",
       "    .dataframe tbody tr th:only-of-type {\n",
       "        vertical-align: middle;\n",
       "    }\n",
       "\n",
       "    .dataframe tbody tr th {\n",
       "        vertical-align: top;\n",
       "    }\n",
       "\n",
       "    .dataframe thead th {\n",
       "        text-align: right;\n",
       "    }\n",
       "</style>\n",
       "<table border=\"1\" class=\"dataframe\">\n",
       "  <thead>\n",
       "    <tr style=\"text-align: right;\">\n",
       "      <th></th>\n",
       "      <th>group</th>\n",
       "      <th>obfuscate</th>\n",
       "      <th>deobfuscate</th>\n",
       "      <th>encrypt</th>\n",
       "      <th>decrypt</th>\n",
       "    </tr>\n",
       "  </thead>\n",
       "  <tbody>\n",
       "    <tr>\n",
       "      <th>0</th>\n",
       "      <td>0 &lt;= Model Size (MB) &lt; 100</td>\n",
       "      <td>0.003820 ± 0.002000</td>\n",
       "      <td>0.005795 ± 0.003956</td>\n",
       "      <td>0.244292 ± 0.115333</td>\n",
       "      <td>0.245123 ± 0.123005</td>\n",
       "    </tr>\n",
       "    <tr>\n",
       "      <th>1</th>\n",
       "      <td>100 &lt;= Model Size (MB) &lt; 200</td>\n",
       "      <td>0.008666 ± 0.002466</td>\n",
       "      <td>0.013184 ± 0.005763</td>\n",
       "      <td>0.680410 ± 0.126848</td>\n",
       "      <td>0.724327 ± 0.133060</td>\n",
       "    </tr>\n",
       "    <tr>\n",
       "      <th>2</th>\n",
       "      <td>200 &lt;= Model Size (MB) &lt; 300</td>\n",
       "      <td>0.014490 ± 0.004417</td>\n",
       "      <td>0.021955 ± 0.009834</td>\n",
       "      <td>1.225329 ± 0.231984</td>\n",
       "      <td>1.197840 ± 0.278559</td>\n",
       "    </tr>\n",
       "    <tr>\n",
       "      <th>3</th>\n",
       "      <td>300 &lt;= Model Size (MB) &lt; 400</td>\n",
       "      <td>0.017144 ± 0.002250</td>\n",
       "      <td>0.025935 ± 0.002614</td>\n",
       "      <td>1.648033 ± 0.388462</td>\n",
       "      <td>1.746837 ± 0.373579</td>\n",
       "    </tr>\n",
       "    <tr>\n",
       "      <th>4</th>\n",
       "      <td>400 &lt;= Model Size (MB) &lt; 500</td>\n",
       "      <td>0.024434 ± 0.006219</td>\n",
       "      <td>0.040424 ± 0.018690</td>\n",
       "      <td>2.898500 ± 0.236313</td>\n",
       "      <td>2.574974 ± 0.215552</td>\n",
       "    </tr>\n",
       "    <tr>\n",
       "      <th>5</th>\n",
       "      <td>500 &lt;= Model Size (MB) &lt; 600</td>\n",
       "      <td>0.019980 ± 0.001987</td>\n",
       "      <td>0.021760 ± 0.004777</td>\n",
       "      <td>3.002284 ± 0.217727</td>\n",
       "      <td>2.574076 ± 0.170747</td>\n",
       "    </tr>\n",
       "    <tr>\n",
       "      <th>6</th>\n",
       "      <td>700 &lt;= Model Size (MB) &lt; 800</td>\n",
       "      <td>0.037661 ± 0.005977</td>\n",
       "      <td>0.051598 ± 0.006328</td>\n",
       "      <td>5.552645 ± 0.103848</td>\n",
       "      <td>5.999168 ± 0.116049</td>\n",
       "    </tr>\n",
       "    <tr>\n",
       "      <th>7</th>\n",
       "      <td>1100 &lt;= Model Size (MB) &lt; 1200</td>\n",
       "      <td>0.051498 ± 0.000437</td>\n",
       "      <td>0.069661 ± 0.002010</td>\n",
       "      <td>7.697417 ± 0.152804</td>\n",
       "      <td>8.562226 ± 0.158626</td>\n",
       "    </tr>\n",
       "    <tr>\n",
       "      <th>8</th>\n",
       "      <td>2400 &lt;= Model Size (MB) &lt; 2500</td>\n",
       "      <td>0.109626 ± 0.023599</td>\n",
       "      <td>0.134600 ± 0.019062</td>\n",
       "      <td>17.901734 ± 0.261984</td>\n",
       "      <td>19.233927 ± 0.467096</td>\n",
       "    </tr>\n",
       "  </tbody>\n",
       "</table>\n",
       "</div>"
      ],
      "text/plain": [
       "                            group            obfuscate          deobfuscate  \\\n",
       "0      0 <= Model Size (MB) < 100  0.003820 ± 0.002000  0.005795 ± 0.003956   \n",
       "1    100 <= Model Size (MB) < 200  0.008666 ± 0.002466  0.013184 ± 0.005763   \n",
       "2    200 <= Model Size (MB) < 300  0.014490 ± 0.004417  0.021955 ± 0.009834   \n",
       "3    300 <= Model Size (MB) < 400  0.017144 ± 0.002250  0.025935 ± 0.002614   \n",
       "4    400 <= Model Size (MB) < 500  0.024434 ± 0.006219  0.040424 ± 0.018690   \n",
       "5    500 <= Model Size (MB) < 600  0.019980 ± 0.001987  0.021760 ± 0.004777   \n",
       "6    700 <= Model Size (MB) < 800  0.037661 ± 0.005977  0.051598 ± 0.006328   \n",
       "7  1100 <= Model Size (MB) < 1200  0.051498 ± 0.000437  0.069661 ± 0.002010   \n",
       "8  2400 <= Model Size (MB) < 2500  0.109626 ± 0.023599  0.134600 ± 0.019062   \n",
       "\n",
       "                encrypt               decrypt  \n",
       "0   0.244292 ± 0.115333   0.245123 ± 0.123005  \n",
       "1   0.680410 ± 0.126848   0.724327 ± 0.133060  \n",
       "2   1.225329 ± 0.231984   1.197840 ± 0.278559  \n",
       "3   1.648033 ± 0.388462   1.746837 ± 0.373579  \n",
       "4   2.898500 ± 0.236313   2.574974 ± 0.215552  \n",
       "5   3.002284 ± 0.217727   2.574076 ± 0.170747  \n",
       "6   5.552645 ± 0.103848   5.999168 ± 0.116049  \n",
       "7   7.697417 ± 0.152804   8.562226 ± 0.158626  \n",
       "8  17.901734 ± 0.261984  19.233927 ± 0.467096  "
      ]
     },
     "execution_count": 3,
     "metadata": {},
     "output_type": "execute_result"
    }
   ],
   "source": [
    "import pandas as pd\n",
    "\n",
    "df = pd.read_csv(f'mtd_model_time_results.csv')\n",
    "\n",
    "bytes_amnt = {\n",
    "    'torch.float32': 4,\n",
    "}\n",
    "\n",
    "df['model_n_bytes_per_weights'] = df['model_dtype_str'].map(bytes_amnt)\n",
    "df.drop(columns=['model_dtype_str'], inplace=True)\n",
    "\n",
    "df['model_size_bytes'] = df['model_n_bytes_per_weights'] * df['model_n_weights']\n",
    "df['model_size_mb'] = df['model_size_bytes'] / 1024 / 1024\n",
    "\n",
    "df.drop(columns=['model_n_bytes_per_weights', 'model_n_weights', 'model_size_bytes'], inplace=True)\n",
    "df.drop(columns=[\n",
    "    'time_construct_mtd', 'time_save_mtd', 'time_load_mtd',\n",
    "])\n",
    "\n",
    "df['Q'] = df['model_size_mb'] // 100.0\n",
    "df['group'] = df['Q'].apply(lambda x: f'{x*100:.0f} <= Model Size (MB) < {(x+1)*100:.0f}')\n",
    "\n",
    "df = df.groupby(['group', 'Q']).agg({\n",
    "    'time_obfuscate_mtd': ['mean', 'std'],\n",
    "    'time_deobfuscate_mtd': ['mean', 'std'],\n",
    "    'time_encrypt_crypto': ['mean', 'std'],\n",
    "    'time_decrypt_crypto': ['mean', 'std'],\n",
    "}).reset_index()\n",
    "df\n",
    "df.columns = ['group', 'Q'] + [f'{col[0]}_{col[1]}' for col in df.columns[2:]]\n",
    "\n",
    "def format_std(mean, std):\n",
    "    return f\"{mean:.6f} ± {std:.6f}\"\n",
    "\n",
    "df['obfuscate'] = df.apply(lambda row: format_std(row['time_obfuscate_mtd_mean'], row['time_obfuscate_mtd_std']), axis=1)\n",
    "df['deobfuscate'] = df.apply(lambda row: format_std(row['time_deobfuscate_mtd_mean'], row['time_deobfuscate_mtd_std']), axis=1)\n",
    "df['encrypt'] = df.apply(lambda row: format_std(row['time_encrypt_crypto_mean'], row['time_encrypt_crypto_std']), axis=1)\n",
    "df['decrypt'] = df.apply(lambda row: format_std(row['time_decrypt_crypto_mean'], row['time_decrypt_crypto_std']), axis=1)\n",
    "\n",
    "df = df[['group', 'obfuscate', 'deobfuscate', 'encrypt', 'decrypt', 'Q']]\n",
    "df.sort_values(by='Q', inplace=True)\n",
    "df.drop(columns=['Q'], inplace=True)\n",
    "df.reset_index(drop=True, inplace=True)\n",
    "df"
   ]
  },
  {
   "cell_type": "code",
   "execution_count": 4,
   "metadata": {},
   "outputs": [
    {
     "name": "stdout",
     "output_type": "stream",
     "text": [
      "\\begin{tabular}{lcccc}\n",
      "\\toprule\n",
      "group & obfuscate & deobfuscate & encrypt & decrypt \\\\\n",
      "\\midrule\n",
      "0 <= Model Size (MB) < 100 & 0.003820 ± 0.002000 & 0.005795 ± 0.003956 & 0.244292 ± 0.115333 & 0.245123 ± 0.123005 \\\\\n",
      "100 <= Model Size (MB) < 200 & 0.008666 ± 0.002466 & 0.013184 ± 0.005763 & 0.680410 ± 0.126848 & 0.724327 ± 0.133060 \\\\\n",
      "200 <= Model Size (MB) < 300 & 0.014490 ± 0.004417 & 0.021955 ± 0.009834 & 1.225329 ± 0.231984 & 1.197840 ± 0.278559 \\\\\n",
      "300 <= Model Size (MB) < 400 & 0.017144 ± 0.002250 & 0.025935 ± 0.002614 & 1.648033 ± 0.388462 & 1.746837 ± 0.373579 \\\\\n",
      "400 <= Model Size (MB) < 500 & 0.024434 ± 0.006219 & 0.040424 ± 0.018690 & 2.898500 ± 0.236313 & 2.574974 ± 0.215552 \\\\\n",
      "500 <= Model Size (MB) < 600 & 0.019980 ± 0.001987 & 0.021760 ± 0.004777 & 3.002284 ± 0.217727 & 2.574076 ± 0.170747 \\\\\n",
      "700 <= Model Size (MB) < 800 & 0.037661 ± 0.005977 & 0.051598 ± 0.006328 & 5.552645 ± 0.103848 & 5.999168 ± 0.116049 \\\\\n",
      "1100 <= Model Size (MB) < 1200 & 0.051498 ± 0.000437 & 0.069661 ± 0.002010 & 7.697417 ± 0.152804 & 8.562226 ± 0.158626 \\\\\n",
      "2400 <= Model Size (MB) < 2500 & 0.109626 ± 0.023599 & 0.134600 ± 0.019062 & 17.901734 ± 0.261984 & 19.233927 ± 0.467096 \\\\\n",
      "\\bottomrule\n",
      "\\end{tabular}\n",
      "\n"
     ]
    }
   ],
   "source": [
    "# print latex table\n",
    "latex_table = df.to_latex(index=False, escape=False, column_format='lcccc')\n",
    "print(latex_table)"
   ]
  }
 ],
 "metadata": {
  "kernelspec": {
   "display_name": "Python 3",
   "language": "python",
   "name": "python3"
  },
  "language_info": {
   "codemirror_mode": {
    "name": "ipython",
    "version": 3
   },
   "file_extension": ".py",
   "mimetype": "text/x-python",
   "name": "python",
   "nbconvert_exporter": "python",
   "pygments_lexer": "ipython3",
   "version": "3.12.7"
  }
 },
 "nbformat": 4,
 "nbformat_minor": 2
}
